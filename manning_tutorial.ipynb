{
  "nbformat": 4,
  "nbformat_minor": 0,
  "metadata": {
    "colab": {
      "name": "manning-tutorial.ipynb",
      "provenance": [],
      "collapsed_sections": [],
      "authorship_tag": "ABX9TyOBnBJ5jLqSnmyPzcXJFJ46",
      "include_colab_link": true
    },
    "kernelspec": {
      "name": "python3",
      "display_name": "Python 3"
    }
  },
  "cells": [
    {
      "cell_type": "markdown",
      "metadata": {
        "id": "view-in-github",
        "colab_type": "text"
      },
      "source": [
        "<a href=\"https://colab.research.google.com/github/esfandia/notebooks/blob/master/manning_tutorial.ipynb\" target=\"_parent\"><img src=\"https://colab.research.google.com/assets/colab-badge.svg\" alt=\"Open In Colab\"/></a>"
      ]
    },
    {
      "cell_type": "code",
      "metadata": {
        "id": "RfxuVklf97dH",
        "colab_type": "code",
        "colab": {
          "base_uri": "https://localhost:8080/",
          "height": 90
        },
        "outputId": "d2454aaa-386c-49df-8ec5-ff9a0705e1cb"
      },
      "source": [
        "!python --version\n",
        "import numpy as np\n",
        "print(np.version.version)\n",
        "import matplotlib.pyplot as plt\n",
        "import pandas as pd\n",
        "print(pd.__version__)\n",
        "import tensorflow as tf\n",
        "print(tf.__version__)\n",
        "from tensorflow import keras\n",
        "from tensorflow.keras import layers"
      ],
      "execution_count": 35,
      "outputs": [
        {
          "output_type": "stream",
          "text": [
            "Python 3.6.9\n",
            "1.18.5\n",
            "1.0.5\n",
            "2.2.0\n"
          ],
          "name": "stdout"
        }
      ]
    },
    {
      "cell_type": "markdown",
      "metadata": {
        "id": "chZaEUcsC60k",
        "colab_type": "text"
      },
      "source": [
        "Pandas exercise"
      ]
    },
    {
      "cell_type": "code",
      "metadata": {
        "id": "LtZUlVRn0dfM",
        "colab_type": "code",
        "colab": {
          "base_uri": "https://localhost:8080/",
          "height": 788
        },
        "outputId": "21b8f445-82a3-4ce4-c5c3-5fc441f58247"
      },
      "source": [
        "from datetime import date\n",
        "import random\n",
        "dates = [date(year, month, 1) for year in range(2018, 2021) for month in range(1,13)]\n",
        "df= pd.DataFrame({'date': dates})\n",
        "random1 = [random.randint(0,99) for i in range(0,36)]\n",
        "df['random1'] = random1\n",
        "random2 = [random.randint(0,99) for i in range(0,36)]\n",
        "df['random2'] = random2\n",
        "df['diff'] = df['random2'] - df['random1']\n",
        "#print(df)\n",
        "year1 = df.loc[df['date'] < date(2019,1,1)]\n",
        "print(\"year1\")\n",
        "print (year1)\n",
        "year2 = df.loc[(df['date'] >= date(2019,1,1)) & (df['date'] < date(2020,1,1)) ]\n",
        "print(\"year2\")\n",
        "print (year2)\n",
        "year3 = df.loc[df['date'] >= date(2020,1,1)]\n",
        "print(\"year3\")\n",
        "print (year3)"
      ],
      "execution_count": 36,
      "outputs": [
        {
          "output_type": "stream",
          "text": [
            "year1\n",
            "          date  random1  random2  diff\n",
            "0   2018-01-01       85       30   -55\n",
            "1   2018-02-01       62       80    18\n",
            "2   2018-03-01        2       78    76\n",
            "3   2018-04-01       53       48    -5\n",
            "4   2018-05-01       93       63   -30\n",
            "5   2018-06-01       99       12   -87\n",
            "6   2018-07-01       53        5   -48\n",
            "7   2018-08-01       31       87    56\n",
            "8   2018-09-01       14       13    -1\n",
            "9   2018-10-01        2        8     6\n",
            "10  2018-11-01       75       14   -61\n",
            "11  2018-12-01        9       33    24\n",
            "year2\n",
            "          date  random1  random2  diff\n",
            "12  2019-01-01       35       84    49\n",
            "13  2019-02-01       40       84    44\n",
            "14  2019-03-01       45       26   -19\n",
            "15  2019-04-01       71       60   -11\n",
            "16  2019-05-01       47       47     0\n",
            "17  2019-06-01       91       27   -64\n",
            "18  2019-07-01       55       37   -18\n",
            "19  2019-08-01       86       38   -48\n",
            "20  2019-09-01       46       96    50\n",
            "21  2019-10-01       76       73    -3\n",
            "22  2019-11-01        2       18    16\n",
            "23  2019-12-01       31       37     6\n",
            "year3\n",
            "          date  random1  random2  diff\n",
            "24  2020-01-01       44       73    29\n",
            "25  2020-02-01       77        0   -77\n",
            "26  2020-03-01       75       95    20\n",
            "27  2020-04-01       60       34   -26\n",
            "28  2020-05-01       67       14   -53\n",
            "29  2020-06-01       68       57   -11\n",
            "30  2020-07-01       10       19     9\n",
            "31  2020-08-01       35       17   -18\n",
            "32  2020-09-01        9       28    19\n",
            "33  2020-10-01       50       42    -8\n",
            "34  2020-11-01       32       41     9\n",
            "35  2020-12-01       78       29   -49\n"
          ],
          "name": "stdout"
        }
      ]
    },
    {
      "cell_type": "markdown",
      "metadata": {
        "id": "1V0Pye96DGW0",
        "colab_type": "text"
      },
      "source": [
        "TensorFlow exercise"
      ]
    },
    {
      "cell_type": "code",
      "metadata": {
        "id": "dlqUudqjDMLl",
        "colab_type": "code",
        "colab": {
          "base_uri": "https://localhost:8080/",
          "height": 788
        },
        "outputId": "75bcde3b-803a-4142-96c3-b6751db77e51"
      },
      "source": [
        "# random vector of temperatures\n",
        "celsius = 50 * np.random.random_sample(20) - 5\n",
        "s= pd.Series(celsius)\n",
        "print(s)\n",
        "df = pd.DataFrame({'celsius': celsius})\n",
        "df['fahr']= 1.8 * df['celsius'] + 32\n",
        "print(df)"
      ],
      "execution_count": 37,
      "outputs": [
        {
          "output_type": "stream",
          "text": [
            "0      6.132090\n",
            "1     28.480754\n",
            "2     28.468992\n",
            "3     34.241511\n",
            "4      5.183819\n",
            "5      4.631985\n",
            "6     23.665643\n",
            "7      4.150585\n",
            "8     41.371269\n",
            "9     20.506167\n",
            "10    33.286286\n",
            "11    20.158265\n",
            "12    43.546603\n",
            "13    -4.390534\n",
            "14    28.271921\n",
            "15    38.098237\n",
            "16    25.930182\n",
            "17    24.629648\n",
            "18    15.505947\n",
            "19    -3.975260\n",
            "dtype: float64\n",
            "      celsius        fahr\n",
            "0    6.132090   43.037762\n",
            "1   28.480754   83.265358\n",
            "2   28.468992   83.244185\n",
            "3   34.241511   93.634720\n",
            "4    5.183819   41.330873\n",
            "5    4.631985   40.337574\n",
            "6   23.665643   74.598157\n",
            "7    4.150585   39.471054\n",
            "8   41.371269  106.468283\n",
            "9   20.506167   68.911101\n",
            "10  33.286286   91.915314\n",
            "11  20.158265   68.284877\n",
            "12  43.546603  110.383886\n",
            "13  -4.390534   24.097039\n",
            "14  28.271921   82.889458\n",
            "15  38.098237  100.576826\n",
            "16  25.930182   78.674327\n",
            "17  24.629648   76.333367\n",
            "18  15.505947   59.910705\n",
            "19  -3.975260   24.844532\n"
          ],
          "name": "stdout"
        }
      ]
    },
    {
      "cell_type": "markdown",
      "metadata": {
        "id": "RdIQBAy4ijRO",
        "colab_type": "text"
      },
      "source": [
        "Split into training and test sets: from here on, much has been adapted from [Google's tutorial](https://www.tensorflow.org/tutorials/keras/regression) \n"
      ]
    },
    {
      "cell_type": "code",
      "metadata": {
        "id": "ZtAYg7_uir5c",
        "colab_type": "code",
        "colab": {
          "base_uri": "https://localhost:8080/",
          "height": 421
        },
        "outputId": "845098ad-175d-49af-eb0f-b38e7a942e32"
      },
      "source": [
        "train_dataset = df.sample(frac=0.8,random_state=0)\n",
        "test_dataset = df.drop(train_dataset.index)\n",
        "print(train_dataset)\n",
        "print(test_dataset)"
      ],
      "execution_count": 38,
      "outputs": [
        {
          "output_type": "stream",
          "text": [
            "      celsius        fahr\n",
            "18  15.505947   59.910705\n",
            "1   28.480754   83.265358\n",
            "19  -3.975260   24.844532\n",
            "8   41.371269  106.468283\n",
            "10  33.286286   91.915314\n",
            "17  24.629648   76.333367\n",
            "6   23.665643   74.598157\n",
            "13  -4.390534   24.097039\n",
            "4    5.183819   41.330873\n",
            "2   28.468992   83.244185\n",
            "5    4.631985   40.337574\n",
            "14  28.271921   82.889458\n",
            "9   20.506167   68.911101\n",
            "7    4.150585   39.471054\n",
            "16  25.930182   78.674327\n",
            "11  20.158265   68.284877\n",
            "      celsius        fahr\n",
            "0    6.132090   43.037762\n",
            "3   34.241511   93.634720\n",
            "12  43.546603  110.383886\n",
            "15  38.098237  100.576826\n"
          ],
          "name": "stdout"
        }
      ]
    },
    {
      "cell_type": "markdown",
      "metadata": {
        "id": "MN2gqYLmjXB1",
        "colab_type": "text"
      },
      "source": [
        "Split label column into its own tensor"
      ]
    },
    {
      "cell_type": "code",
      "metadata": {
        "id": "uTs6cRI1jc1s",
        "colab_type": "code",
        "colab": {
          "base_uri": "https://localhost:8080/",
          "height": 201
        },
        "outputId": "a4b54531-8ce1-475f-8221-f1dc10e8b318"
      },
      "source": [
        "train_labels = train_dataset.pop('fahr')\n",
        "test_labels = test_dataset.pop('fahr')\n",
        "print(test_dataset)\n",
        "print(test_labels)"
      ],
      "execution_count": 39,
      "outputs": [
        {
          "output_type": "stream",
          "text": [
            "      celsius\n",
            "0    6.132090\n",
            "3   34.241511\n",
            "12  43.546603\n",
            "15  38.098237\n",
            "0      43.037762\n",
            "3      93.634720\n",
            "12    110.383886\n",
            "15    100.576826\n",
            "Name: fahr, dtype: float64\n"
          ],
          "name": "stdout"
        }
      ]
    },
    {
      "cell_type": "markdown",
      "metadata": {
        "id": "eB4hUFGykE1W",
        "colab_type": "text"
      },
      "source": [
        "Build the model"
      ]
    },
    {
      "cell_type": "code",
      "metadata": {
        "id": "0piAhTzpkGmc",
        "colab_type": "code",
        "colab": {}
      },
      "source": [
        "def build_model():\n",
        "  model = keras.Sequential([\n",
        "    layers.Dense(64, activation='relu', input_shape=[len(train_dataset.keys())]),\n",
        "    #layers.Dense(64, activation='relu'), #just one layer should do it\n",
        "    layers.Dense(1)\n",
        "  ])\n",
        "\n",
        "  optimizer = tf.keras.optimizers.RMSprop(0.001)\n",
        "\n",
        "  model.compile(loss='mse',\n",
        "                optimizer=optimizer,\n",
        "                metrics=['mae', 'mse'])\n",
        "  return model"
      ],
      "execution_count": 40,
      "outputs": []
    },
    {
      "cell_type": "markdown",
      "metadata": {
        "id": "ifkBSlYykyq2",
        "colab_type": "text"
      },
      "source": [
        "Build and view the model"
      ]
    },
    {
      "cell_type": "code",
      "metadata": {
        "id": "QQNRBrlNk0m2",
        "colab_type": "code",
        "colab": {
          "base_uri": "https://localhost:8080/",
          "height": 237
        },
        "outputId": "13187515-6dcf-4717-b9e1-8f12571c6f66"
      },
      "source": [
        "model = build_model()\n",
        "model.summary()"
      ],
      "execution_count": 41,
      "outputs": [
        {
          "output_type": "stream",
          "text": [
            "Model: \"sequential_2\"\n",
            "_________________________________________________________________\n",
            "Layer (type)                 Output Shape              Param #   \n",
            "=================================================================\n",
            "dense_4 (Dense)              (None, 64)                128       \n",
            "_________________________________________________________________\n",
            "dense_5 (Dense)              (None, 1)                 65        \n",
            "=================================================================\n",
            "Total params: 193\n",
            "Trainable params: 193\n",
            "Non-trainable params: 0\n",
            "_________________________________________________________________\n"
          ],
          "name": "stdout"
        }
      ]
    },
    {
      "cell_type": "markdown",
      "metadata": {
        "id": "g-NiE_DXmaSW",
        "colab_type": "text"
      },
      "source": [
        "Try it out pre-fitting"
      ]
    },
    {
      "cell_type": "code",
      "metadata": {
        "id": "1H52x7d-mdaV",
        "colab_type": "code",
        "colab": {
          "base_uri": "https://localhost:8080/",
          "height": 201
        },
        "outputId": "0fea1ca9-c1b9-4cde-a4db-827887b83732"
      },
      "source": [
        "example_batch = train_dataset[:10]\n",
        "example_result = model.predict(example_batch)\n",
        "example_result"
      ],
      "execution_count": 42,
      "outputs": [
        {
          "output_type": "execute_result",
          "data": {
            "text/plain": [
              "array([[ 1.6855255 ],\n",
              "       [ 3.0959115 ],\n",
              "       [-0.4039517 ],\n",
              "       [ 4.4971347 ],\n",
              "       [ 3.618282  ],\n",
              "       [ 2.6772888 ],\n",
              "       [ 2.5725    ],\n",
              "       [-0.44615018],\n",
              "       [ 0.5634908 ],\n",
              "       [ 3.0946329 ]], dtype=float32)"
            ]
          },
          "metadata": {
            "tags": []
          },
          "execution_count": 42
        }
      ]
    },
    {
      "cell_type": "markdown",
      "metadata": {
        "id": "wf24WvVSmv-W",
        "colab_type": "text"
      },
      "source": [
        "Now learn!"
      ]
    },
    {
      "cell_type": "code",
      "metadata": {
        "id": "Qn77nWgpmzAI",
        "colab_type": "code",
        "colab": {}
      },
      "source": [
        "EPOCHS = 500\n",
        "\n",
        "history = model.fit(\n",
        "  train_dataset, train_labels,\n",
        "  epochs=EPOCHS, validation_split = 0.2, verbose=0,\n",
        "  callbacks=[])\n"
      ],
      "execution_count": 43,
      "outputs": []
    },
    {
      "cell_type": "markdown",
      "metadata": {
        "id": "iy9bo4OOnL-W",
        "colab_type": "text"
      },
      "source": [
        "Did it learn?"
      ]
    },
    {
      "cell_type": "code",
      "metadata": {
        "id": "EskwqZzxnZEO",
        "colab_type": "code",
        "colab": {
          "base_uri": "https://localhost:8080/",
          "height": 206
        },
        "outputId": "14fa6f59-1aca-4b61-8989-4076f21afeb1"
      },
      "source": [
        "hist = pd.DataFrame(history.history)\n",
        "hist['epoch'] = history.epoch\n",
        "hist.tail()"
      ],
      "execution_count": 44,
      "outputs": [
        {
          "output_type": "execute_result",
          "data": {
            "text/html": [
              "<div>\n",
              "<style scoped>\n",
              "    .dataframe tbody tr th:only-of-type {\n",
              "        vertical-align: middle;\n",
              "    }\n",
              "\n",
              "    .dataframe tbody tr th {\n",
              "        vertical-align: top;\n",
              "    }\n",
              "\n",
              "    .dataframe thead th {\n",
              "        text-align: right;\n",
              "    }\n",
              "</style>\n",
              "<table border=\"1\" class=\"dataframe\">\n",
              "  <thead>\n",
              "    <tr style=\"text-align: right;\">\n",
              "      <th></th>\n",
              "      <th>loss</th>\n",
              "      <th>mae</th>\n",
              "      <th>mse</th>\n",
              "      <th>val_loss</th>\n",
              "      <th>val_mae</th>\n",
              "      <th>val_mse</th>\n",
              "      <th>epoch</th>\n",
              "    </tr>\n",
              "  </thead>\n",
              "  <tbody>\n",
              "    <tr>\n",
              "      <th>495</th>\n",
              "      <td>119.251534</td>\n",
              "      <td>7.311615</td>\n",
              "      <td>119.251534</td>\n",
              "      <td>172.300735</td>\n",
              "      <td>10.452555</td>\n",
              "      <td>172.300735</td>\n",
              "      <td>495</td>\n",
              "    </tr>\n",
              "    <tr>\n",
              "      <th>496</th>\n",
              "      <td>119.122719</td>\n",
              "      <td>7.259012</td>\n",
              "      <td>119.122719</td>\n",
              "      <td>174.629272</td>\n",
              "      <td>10.626316</td>\n",
              "      <td>174.629272</td>\n",
              "      <td>496</td>\n",
              "    </tr>\n",
              "    <tr>\n",
              "      <th>497</th>\n",
              "      <td>118.992439</td>\n",
              "      <td>7.303785</td>\n",
              "      <td>118.992439</td>\n",
              "      <td>171.924835</td>\n",
              "      <td>10.441157</td>\n",
              "      <td>171.924835</td>\n",
              "      <td>497</td>\n",
              "    </tr>\n",
              "    <tr>\n",
              "      <th>498</th>\n",
              "      <td>118.862923</td>\n",
              "      <td>7.251188</td>\n",
              "      <td>118.862923</td>\n",
              "      <td>174.245926</td>\n",
              "      <td>10.614624</td>\n",
              "      <td>174.245926</td>\n",
              "      <td>498</td>\n",
              "    </tr>\n",
              "    <tr>\n",
              "      <th>499</th>\n",
              "      <td>118.731941</td>\n",
              "      <td>7.295887</td>\n",
              "      <td>118.731941</td>\n",
              "      <td>171.548294</td>\n",
              "      <td>10.429793</td>\n",
              "      <td>171.548294</td>\n",
              "      <td>499</td>\n",
              "    </tr>\n",
              "  </tbody>\n",
              "</table>\n",
              "</div>"
            ],
            "text/plain": [
              "           loss       mae         mse    val_loss    val_mae     val_mse  epoch\n",
              "495  119.251534  7.311615  119.251534  172.300735  10.452555  172.300735    495\n",
              "496  119.122719  7.259012  119.122719  174.629272  10.626316  174.629272    496\n",
              "497  118.992439  7.303785  118.992439  171.924835  10.441157  171.924835    497\n",
              "498  118.862923  7.251188  118.862923  174.245926  10.614624  174.245926    498\n",
              "499  118.731941  7.295887  118.731941  171.548294  10.429793  171.548294    499"
            ]
          },
          "metadata": {
            "tags": []
          },
          "execution_count": 44
        }
      ]
    },
    {
      "cell_type": "markdown",
      "metadata": {
        "id": "QstSy-K7oC3f",
        "colab_type": "text"
      },
      "source": [
        "How does it perform with the test set?"
      ]
    },
    {
      "cell_type": "code",
      "metadata": {
        "id": "B3RGjH1roFc4",
        "colab_type": "code",
        "colab": {
          "base_uri": "https://localhost:8080/",
          "height": 35
        },
        "outputId": "439a515f-725e-41ce-91f1-cf6ea74697f1"
      },
      "source": [
        "loss, mae, mse = model.evaluate(test_dataset, test_labels, verbose=2)\n"
      ],
      "execution_count": 45,
      "outputs": [
        {
          "output_type": "stream",
          "text": [
            "1/1 - 0s - loss: 201.9391 - mae: 12.8769 - mse: 201.9391\n"
          ],
          "name": "stdout"
        }
      ]
    },
    {
      "cell_type": "markdown",
      "metadata": {
        "id": "x3wnzv5Ioeh_",
        "colab_type": "text"
      },
      "source": [
        "Make predictions and plot them!"
      ]
    },
    {
      "cell_type": "code",
      "metadata": {
        "id": "fyiaQUE1oiBW",
        "colab_type": "code",
        "colab": {
          "base_uri": "https://localhost:8080/",
          "height": 301
        },
        "outputId": "52eef4ed-5454-4945-ebdc-8af7c882be3a"
      },
      "source": [
        "test_predictions = model.predict(test_dataset).flatten()\n",
        "print(test_predictions)\n",
        "\n",
        "a = plt.axes(aspect='equal')\n",
        "plt.scatter(test_labels, test_predictions)\n",
        "plt.xlabel('True Values [fahr]')\n",
        "plt.ylabel('Predictions [fahr]')\n",
        "lims = [0, 200]\n",
        "plt.xlim(lims)\n",
        "plt.ylim(lims)\n",
        "_ = plt.plot(lims, lims)\n"
      ],
      "execution_count": 46,
      "outputs": [
        {
          "output_type": "stream",
          "text": [
            "[ 21.366596  99.31191  125.11384  110.00631 ]\n"
          ],
          "name": "stdout"
        },
        {
          "output_type": "display_data",
          "data": {
            "image/png": "[encoded data removed]",
            "text/plain": [
              "<Figure size 432x288 with 1 Axes>"
            ]
          },
          "metadata": {
            "tags": [],
            "needs_background": "light"
          }
        }
      ]
    }
  ]
}